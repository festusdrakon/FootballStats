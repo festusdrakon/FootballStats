{
  "nbformat": 4,
  "nbformat_minor": 0,
  "metadata": {
    "colab": {
      "name": "03-Logistic Regression Project - Solutions.ipynb",
      "version": "0.3.2",
      "provenance": []
    },
    "language_info": {
      "codemirror_mode": {
        "name": "ipython",
        "version": 3
      },
      "file_extension": ".py",
      "mimetype": "text/x-python",
      "name": "python",
      "nbconvert_exporter": "python",
      "pygments_lexer": "ipython3",
      "version": "3.5.1"
    },
    "kernelspec": {
      "display_name": "Python 3",
      "language": "python",
      "name": "python3"
    }
  },
  "cells": [
    {
      "cell_type": "markdown",
      "metadata": {
        "id": "B0QSoX8FSkcH",
        "colab_type": "text"
      },
      "source": [
        "\n",
        "This project is to evaluate player position using different metrics.First I have used some visualizations and then logistic regression models.\n",
        "\n",
        "Lets first import relevant libraries and the dataset."
      ]
    },
    {
      "cell_type": "code",
      "metadata": {
        "id": "LJTtU9g1WlFM",
        "colab_type": "code",
        "colab": {}
      },
      "source": [
        "import pandas as pd\n",
        "import numpy as np\n",
        "import matplotlib.pyplot as plt\n",
        "import seaborn as sns\n",
        "%matplotlib inline"
      ],
      "execution_count": 0,
      "outputs": []
    },
    {
      "cell_type": "code",
      "metadata": {
        "id": "Z9zZtU6IWlFQ",
        "colab_type": "code",
        "colab": {}
      },
      "source": [
        "url = 'https://raw.githubusercontent.com/shanksghub/FootballStats/master/FootballStats.csv'\n",
        "df1 = pd.read_csv(url)"
      ],
      "execution_count": 0,
      "outputs": []
    },
    {
      "cell_type": "markdown",
      "metadata": {
        "id": "0vpF6ELqTK6j",
        "colab_type": "text"
      },
      "source": [
        "**Fill NA/NaN values"
      ]
    },
    {
      "cell_type": "code",
      "metadata": {
        "id": "ssxkwX0CWlFU",
        "colab_type": "code",
        "outputId": "8c0bd57a-fe0d-4d9d-9258-3eff51ed265c",
        "colab": {
          "base_uri": "https://localhost:8080/",
          "height": 241
        }
      },
      "source": [
        "df1 = df1.drop([\"name\"], axis=1)\n",
        "df1 = df1.dropna(axis = 0, how ='any') \n",
        "df1.fillna(0)\n",
        "\n",
        "df1.head()"
      ],
      "execution_count": 5,
      "outputs": [
        {
          "output_type": "execute_result",
          "data": {
            "text/html": [
              "<div>\n",
              "<style scoped>\n",
              "    .dataframe tbody tr th:only-of-type {\n",
              "        vertical-align: middle;\n",
              "    }\n",
              "\n",
              "    .dataframe tbody tr th {\n",
              "        vertical-align: top;\n",
              "    }\n",
              "\n",
              "    .dataframe thead th {\n",
              "        text-align: right;\n",
              "    }\n",
              "</style>\n",
              "<table border=\"1\" class=\"dataframe\">\n",
              "  <thead>\n",
              "    <tr style=\"text-align: right;\">\n",
              "      <th></th>\n",
              "      <th>position</th>\n",
              "      <th>appearances</th>\n",
              "      <th>goals</th>\n",
              "      <th>tackles</th>\n",
              "      <th>passes</th>\n",
              "      <th>assists</th>\n",
              "      <th>shots</th>\n",
              "      <th>hit woordwork</th>\n",
              "      <th>crosses</th>\n",
              "      <th>blocks</th>\n",
              "      <th>clearances</th>\n",
              "      <th>headed clearances</th>\n",
              "      <th>clean sheets</th>\n",
              "      <th>saves</th>\n",
              "      <th>punches</th>\n",
              "      <th>goals conceded</th>\n",
              "      <th>yellow cards</th>\n",
              "      <th>red cards</th>\n",
              "      <th>fouls</th>\n",
              "      <th>offsides</th>\n",
              "    </tr>\n",
              "  </thead>\n",
              "  <tbody>\n",
              "    <tr>\n",
              "      <th>0</th>\n",
              "      <td>Forward</td>\n",
              "      <td>23</td>\n",
              "      <td>17</td>\n",
              "      <td>16</td>\n",
              "      <td>538.0</td>\n",
              "      <td>6</td>\n",
              "      <td>84</td>\n",
              "      <td>5</td>\n",
              "      <td>7</td>\n",
              "      <td>20</td>\n",
              "      <td>3</td>\n",
              "      <td>0</td>\n",
              "      <td>0</td>\n",
              "      <td>0</td>\n",
              "      <td>0</td>\n",
              "      <td>3</td>\n",
              "      <td>0.0</td>\n",
              "      <td>15.0</td>\n",
              "      <td>18.0</td>\n",
              "      <td>0.0</td>\n",
              "    </tr>\n",
              "    <tr>\n",
              "      <th>1</th>\n",
              "      <td>Defender</td>\n",
              "      <td>27</td>\n",
              "      <td>2</td>\n",
              "      <td>30</td>\n",
              "      <td>2313.0</td>\n",
              "      <td>1</td>\n",
              "      <td>0</td>\n",
              "      <td>0</td>\n",
              "      <td>6</td>\n",
              "      <td>69</td>\n",
              "      <td>12</td>\n",
              "      <td>0</td>\n",
              "      <td>0</td>\n",
              "      <td>0</td>\n",
              "      <td>3</td>\n",
              "      <td>0</td>\n",
              "      <td>19.0</td>\n",
              "      <td>2.0</td>\n",
              "      <td>0.0</td>\n",
              "      <td>0.0</td>\n",
              "    </tr>\n",
              "    <tr>\n",
              "      <th>2</th>\n",
              "      <td>Forward</td>\n",
              "      <td>26</td>\n",
              "      <td>17</td>\n",
              "      <td>13</td>\n",
              "      <td>739.0</td>\n",
              "      <td>7</td>\n",
              "      <td>87</td>\n",
              "      <td>1</td>\n",
              "      <td>49</td>\n",
              "      <td>21</td>\n",
              "      <td>4</td>\n",
              "      <td>1</td>\n",
              "      <td>0</td>\n",
              "      <td>0</td>\n",
              "      <td>0</td>\n",
              "      <td>0</td>\n",
              "      <td>0.0</td>\n",
              "      <td>0.0</td>\n",
              "      <td>20.0</td>\n",
              "      <td>21.0</td>\n",
              "    </tr>\n",
              "    <tr>\n",
              "      <th>3</th>\n",
              "      <td>Forward</td>\n",
              "      <td>25</td>\n",
              "      <td>15</td>\n",
              "      <td>19</td>\n",
              "      <td>518.0</td>\n",
              "      <td>4</td>\n",
              "      <td>63</td>\n",
              "      <td>3</td>\n",
              "      <td>26</td>\n",
              "      <td>13</td>\n",
              "      <td>15</td>\n",
              "      <td>4</td>\n",
              "      <td>0</td>\n",
              "      <td>0</td>\n",
              "      <td>0</td>\n",
              "      <td>0</td>\n",
              "      <td>0.0</td>\n",
              "      <td>0.0</td>\n",
              "      <td>11.0</td>\n",
              "      <td>17.0</td>\n",
              "    </tr>\n",
              "    <tr>\n",
              "      <th>4</th>\n",
              "      <td>Forward</td>\n",
              "      <td>22</td>\n",
              "      <td>14</td>\n",
              "      <td>7</td>\n",
              "      <td>446.0</td>\n",
              "      <td>4</td>\n",
              "      <td>77</td>\n",
              "      <td>1</td>\n",
              "      <td>9</td>\n",
              "      <td>18</td>\n",
              "      <td>11</td>\n",
              "      <td>9</td>\n",
              "      <td>0</td>\n",
              "      <td>0</td>\n",
              "      <td>0</td>\n",
              "      <td>0</td>\n",
              "      <td>4.0</td>\n",
              "      <td>0.0</td>\n",
              "      <td>23.0</td>\n",
              "      <td>7.0</td>\n",
              "    </tr>\n",
              "  </tbody>\n",
              "</table>\n",
              "</div>"
            ],
            "text/plain": [
              "   position  appearances  goals  ...  red cards  fouls  offsides\n",
              "0   Forward           23     17  ...       15.0   18.0       0.0\n",
              "1  Defender           27      2  ...        2.0    0.0       0.0\n",
              "2   Forward           26     17  ...        0.0   20.0      21.0\n",
              "3   Forward           25     15  ...        0.0   11.0      17.0\n",
              "4   Forward           22     14  ...        0.0   23.0       7.0\n",
              "\n",
              "[5 rows x 20 columns]"
            ]
          },
          "metadata": {
            "tags": []
          },
          "execution_count": 5
        }
      ]
    },
    {
      "cell_type": "code",
      "metadata": {
        "id": "_8LOZSwjWlFa",
        "colab_type": "code",
        "outputId": "f54afbf6-a3da-4a6f-cdb3-15cceff1719b",
        "colab": {
          "base_uri": "https://localhost:8080/",
          "height": 442
        }
      },
      "source": [
        "df1.info()"
      ],
      "execution_count": 6,
      "outputs": [
        {
          "output_type": "stream",
          "text": [
            "<class 'pandas.core.frame.DataFrame'>\n",
            "Int64Index: 23 entries, 0 to 45\n",
            "Data columns (total 20 columns):\n",
            "position             23 non-null object\n",
            "appearances          23 non-null int64\n",
            "goals                23 non-null int64\n",
            "tackles              23 non-null int64\n",
            "passes               23 non-null float64\n",
            "assists              23 non-null int64\n",
            "shots                23 non-null int64\n",
            "hit woordwork        23 non-null int64\n",
            "crosses              23 non-null int64\n",
            "blocks               23 non-null int64\n",
            "clearances           23 non-null int64\n",
            "headed clearances    23 non-null int64\n",
            "clean sheets         23 non-null int64\n",
            "saves                23 non-null int64\n",
            "punches              23 non-null int64\n",
            "goals conceded       23 non-null int64\n",
            "yellow cards         23 non-null float64\n",
            "red cards            23 non-null float64\n",
            "fouls                23 non-null float64\n",
            "offsides             23 non-null float64\n",
            "dtypes: float64(5), int64(14), object(1)\n",
            "memory usage: 3.8+ KB\n"
          ],
          "name": "stdout"
        }
      ]
    },
    {
      "cell_type": "code",
      "metadata": {
        "id": "omZVWCRvWlFf",
        "colab_type": "code",
        "outputId": "f166978a-ff83-4187-9c9a-d11d9112a741",
        "colab": {
          "base_uri": "https://localhost:8080/",
          "height": 334
        }
      },
      "source": [
        "df1.describe()"
      ],
      "execution_count": 7,
      "outputs": [
        {
          "output_type": "execute_result",
          "data": {
            "text/html": [
              "<div>\n",
              "<style scoped>\n",
              "    .dataframe tbody tr th:only-of-type {\n",
              "        vertical-align: middle;\n",
              "    }\n",
              "\n",
              "    .dataframe tbody tr th {\n",
              "        vertical-align: top;\n",
              "    }\n",
              "\n",
              "    .dataframe thead th {\n",
              "        text-align: right;\n",
              "    }\n",
              "</style>\n",
              "<table border=\"1\" class=\"dataframe\">\n",
              "  <thead>\n",
              "    <tr style=\"text-align: right;\">\n",
              "      <th></th>\n",
              "      <th>appearances</th>\n",
              "      <th>goals</th>\n",
              "      <th>tackles</th>\n",
              "      <th>passes</th>\n",
              "      <th>assists</th>\n",
              "      <th>shots</th>\n",
              "      <th>hit woordwork</th>\n",
              "      <th>crosses</th>\n",
              "      <th>blocks</th>\n",
              "      <th>clearances</th>\n",
              "      <th>headed clearances</th>\n",
              "      <th>clean sheets</th>\n",
              "      <th>saves</th>\n",
              "      <th>punches</th>\n",
              "      <th>goals conceded</th>\n",
              "      <th>yellow cards</th>\n",
              "      <th>red cards</th>\n",
              "      <th>fouls</th>\n",
              "      <th>offsides</th>\n",
              "    </tr>\n",
              "  </thead>\n",
              "  <tbody>\n",
              "    <tr>\n",
              "      <th>count</th>\n",
              "      <td>23.000000</td>\n",
              "      <td>23.000000</td>\n",
              "      <td>23.000000</td>\n",
              "      <td>23.000000</td>\n",
              "      <td>23.000000</td>\n",
              "      <td>23.000000</td>\n",
              "      <td>23.000000</td>\n",
              "      <td>23.000000</td>\n",
              "      <td>23.000000</td>\n",
              "      <td>23.000000</td>\n",
              "      <td>23.000000</td>\n",
              "      <td>23.000000</td>\n",
              "      <td>23.000000</td>\n",
              "      <td>23.000000</td>\n",
              "      <td>23.000000</td>\n",
              "      <td>23.000000</td>\n",
              "      <td>23.000000</td>\n",
              "      <td>23.000000</td>\n",
              "      <td>23.000000</td>\n",
              "    </tr>\n",
              "    <tr>\n",
              "      <th>mean</th>\n",
              "      <td>24.913043</td>\n",
              "      <td>5.521739</td>\n",
              "      <td>25.173913</td>\n",
              "      <td>935.652174</td>\n",
              "      <td>2.260870</td>\n",
              "      <td>27.478261</td>\n",
              "      <td>0.956522</td>\n",
              "      <td>25.347826</td>\n",
              "      <td>11.304348</td>\n",
              "      <td>51.086957</td>\n",
              "      <td>27.130435</td>\n",
              "      <td>2.391304</td>\n",
              "      <td>10.043478</td>\n",
              "      <td>1.434783</td>\n",
              "      <td>15.695652</td>\n",
              "      <td>3.521739</td>\n",
              "      <td>0.869565</td>\n",
              "      <td>18.130435</td>\n",
              "      <td>4.826087</td>\n",
              "    </tr>\n",
              "    <tr>\n",
              "      <th>std</th>\n",
              "      <td>1.806882</td>\n",
              "      <td>5.976238</td>\n",
              "      <td>19.389904</td>\n",
              "      <td>449.932784</td>\n",
              "      <td>2.649484</td>\n",
              "      <td>35.089327</td>\n",
              "      <td>1.296087</td>\n",
              "      <td>45.195141</td>\n",
              "      <td>15.342854</td>\n",
              "      <td>64.231055</td>\n",
              "      <td>34.577061</td>\n",
              "      <td>4.469484</td>\n",
              "      <td>22.921761</td>\n",
              "      <td>3.130874</td>\n",
              "      <td>19.848139</td>\n",
              "      <td>3.998518</td>\n",
              "      <td>3.123290</td>\n",
              "      <td>12.447360</td>\n",
              "      <td>7.761514</td>\n",
              "    </tr>\n",
              "    <tr>\n",
              "      <th>min</th>\n",
              "      <td>20.000000</td>\n",
              "      <td>0.000000</td>\n",
              "      <td>0.000000</td>\n",
              "      <td>446.000000</td>\n",
              "      <td>0.000000</td>\n",
              "      <td>0.000000</td>\n",
              "      <td>0.000000</td>\n",
              "      <td>0.000000</td>\n",
              "      <td>0.000000</td>\n",
              "      <td>0.000000</td>\n",
              "      <td>0.000000</td>\n",
              "      <td>0.000000</td>\n",
              "      <td>0.000000</td>\n",
              "      <td>0.000000</td>\n",
              "      <td>0.000000</td>\n",
              "      <td>0.000000</td>\n",
              "      <td>0.000000</td>\n",
              "      <td>0.000000</td>\n",
              "      <td>0.000000</td>\n",
              "    </tr>\n",
              "    <tr>\n",
              "      <th>25%</th>\n",
              "      <td>24.000000</td>\n",
              "      <td>1.000000</td>\n",
              "      <td>8.000000</td>\n",
              "      <td>560.000000</td>\n",
              "      <td>0.000000</td>\n",
              "      <td>0.000000</td>\n",
              "      <td>0.000000</td>\n",
              "      <td>1.000000</td>\n",
              "      <td>0.500000</td>\n",
              "      <td>4.000000</td>\n",
              "      <td>0.500000</td>\n",
              "      <td>0.000000</td>\n",
              "      <td>0.000000</td>\n",
              "      <td>0.000000</td>\n",
              "      <td>0.000000</td>\n",
              "      <td>1.500000</td>\n",
              "      <td>0.000000</td>\n",
              "      <td>10.500000</td>\n",
              "      <td>0.000000</td>\n",
              "    </tr>\n",
              "    <tr>\n",
              "      <th>50%</th>\n",
              "      <td>25.000000</td>\n",
              "      <td>3.000000</td>\n",
              "      <td>28.000000</td>\n",
              "      <td>748.000000</td>\n",
              "      <td>1.000000</td>\n",
              "      <td>0.000000</td>\n",
              "      <td>1.000000</td>\n",
              "      <td>9.000000</td>\n",
              "      <td>7.000000</td>\n",
              "      <td>15.000000</td>\n",
              "      <td>9.000000</td>\n",
              "      <td>0.000000</td>\n",
              "      <td>0.000000</td>\n",
              "      <td>0.000000</td>\n",
              "      <td>0.000000</td>\n",
              "      <td>2.000000</td>\n",
              "      <td>0.000000</td>\n",
              "      <td>19.000000</td>\n",
              "      <td>1.000000</td>\n",
              "    </tr>\n",
              "    <tr>\n",
              "      <th>75%</th>\n",
              "      <td>26.000000</td>\n",
              "      <td>10.000000</td>\n",
              "      <td>38.500000</td>\n",
              "      <td>1204.500000</td>\n",
              "      <td>3.500000</td>\n",
              "      <td>59.500000</td>\n",
              "      <td>1.000000</td>\n",
              "      <td>25.000000</td>\n",
              "      <td>19.000000</td>\n",
              "      <td>89.500000</td>\n",
              "      <td>48.000000</td>\n",
              "      <td>2.500000</td>\n",
              "      <td>0.000000</td>\n",
              "      <td>0.000000</td>\n",
              "      <td>32.000000</td>\n",
              "      <td>5.000000</td>\n",
              "      <td>0.000000</td>\n",
              "      <td>28.000000</td>\n",
              "      <td>6.000000</td>\n",
              "    </tr>\n",
              "    <tr>\n",
              "      <th>max</th>\n",
              "      <td>27.000000</td>\n",
              "      <td>17.000000</td>\n",
              "      <td>69.000000</td>\n",
              "      <td>2313.000000</td>\n",
              "      <td>10.000000</td>\n",
              "      <td>93.000000</td>\n",
              "      <td>5.000000</td>\n",
              "      <td>197.000000</td>\n",
              "      <td>69.000000</td>\n",
              "      <td>175.000000</td>\n",
              "      <td>95.000000</td>\n",
              "      <td>14.000000</td>\n",
              "      <td>77.000000</td>\n",
              "      <td>12.000000</td>\n",
              "      <td>55.000000</td>\n",
              "      <td>19.000000</td>\n",
              "      <td>15.000000</td>\n",
              "      <td>40.000000</td>\n",
              "      <td>28.000000</td>\n",
              "    </tr>\n",
              "  </tbody>\n",
              "</table>\n",
              "</div>"
            ],
            "text/plain": [
              "       appearances      goals    tackles  ...  red cards      fouls   offsides\n",
              "count    23.000000  23.000000  23.000000  ...  23.000000  23.000000  23.000000\n",
              "mean     24.913043   5.521739  25.173913  ...   0.869565  18.130435   4.826087\n",
              "std       1.806882   5.976238  19.389904  ...   3.123290  12.447360   7.761514\n",
              "min      20.000000   0.000000   0.000000  ...   0.000000   0.000000   0.000000\n",
              "25%      24.000000   1.000000   8.000000  ...   0.000000  10.500000   0.000000\n",
              "50%      25.000000   3.000000  28.000000  ...   0.000000  19.000000   1.000000\n",
              "75%      26.000000  10.000000  38.500000  ...   0.000000  28.000000   6.000000\n",
              "max      27.000000  17.000000  69.000000  ...  15.000000  40.000000  28.000000\n",
              "\n",
              "[8 rows x 19 columns]"
            ]
          },
          "metadata": {
            "tags": []
          },
          "execution_count": 7
        }
      ]
    },
    {
      "cell_type": "code",
      "metadata": {
        "id": "CBhuvma9WlFk",
        "colab_type": "code",
        "outputId": "09b650e2-4333-4a35-eaa0-6f91d382acd4",
        "colab": {
          "base_uri": "https://localhost:8080/",
          "height": 300
        }
      },
      "source": [
        "sns.set_style('whitegrid')\n",
        "df1['goals'].hist(bins=30)\n",
        "plt.xlabel('goals')"
      ],
      "execution_count": 8,
      "outputs": [
        {
          "output_type": "execute_result",
          "data": {
            "text/plain": [
              "Text(0.5, 0, 'goals')"
            ]
          },
          "metadata": {
            "tags": []
          },
          "execution_count": 8
        },
        {
          "output_type": "display_data",
          "data": {
            "image/png": "[encoded data removed]",
            "text/plain": [
              "<Figure size 432x288 with 1 Axes>"
            ]
          },
          "metadata": {
            "tags": []
          }
        }
      ]
    },
    {
      "cell_type": "markdown",
      "metadata": {
        "id": "BdvmMMKfVoJ3",
        "colab_type": "text"
      },
      "source": [
        "Jointplot of Shots and goals..\n"
      ]
    },
    {
      "cell_type": "code",
      "metadata": {
        "id": "RVJDkWm7WlFv",
        "colab_type": "code",
        "outputId": "54c0dd90-9724-4f0a-a668-5d1c1608e648",
        "colab": {
          "base_uri": "https://localhost:8080/",
          "height": 458
        }
      },
      "source": [
        "sns.jointplot(x='shots',y='goals',data=df1)"
      ],
      "execution_count": 9,
      "outputs": [
        {
          "output_type": "execute_result",
          "data": {
            "text/plain": [
              "<seaborn.axisgrid.JointGrid at 0x7fb48aa4b390>"
            ]
          },
          "metadata": {
            "tags": []
          },
          "execution_count": 9
        },
        {
          "output_type": "display_data",
          "data": {
            "image/png": "[encoded data removed]",
            "text/plain": [
              "<Figure size 432x432 with 3 Axes>"
            ]
          },
          "metadata": {
            "tags": []
          }
        }
      ]
    },
    {
      "cell_type": "markdown",
      "metadata": {
        "id": "dxr8Bi8CVwsY",
        "colab_type": "text"
      },
      "source": [
        "Density Joint plot of passes and goals."
      ]
    },
    {
      "cell_type": "code",
      "metadata": {
        "id": "epSqad7QWlF0",
        "colab_type": "code",
        "outputId": "36623dd2-77e0-469f-e964-81c3efba7b13",
        "colab": {
          "base_uri": "https://localhost:8080/",
          "height": 441
        }
      },
      "source": [
        "sns.jointplot(x='passes',y='goals',data=df1,color='red',kind='kde');"
      ],
      "execution_count": 10,
      "outputs": [
        {
          "output_type": "display_data",
          "data": {
            "image/png": "[encoded data removed]",
            "text/plain": [
              "<Figure size 432x432 with 3 Axes>"
            ]
          },
          "metadata": {
            "tags": []
          }
        }
      ]
    },
    {
      "cell_type": "markdown",
      "metadata": {
        "id": "u7VGS124V3gD",
        "colab_type": "text"
      },
      "source": [
        "JointPlot of tackles and goals."
      ]
    },
    {
      "cell_type": "code",
      "metadata": {
        "id": "aX0CHDEGWlF5",
        "colab_type": "code",
        "outputId": "d07fc1e4-d6d2-4041-895e-42c02a1047b3",
        "colab": {
          "base_uri": "https://localhost:8080/",
          "height": 458
        }
      },
      "source": [
        "sns.jointplot(x='tackles',y='goals',data=df1,color='green')"
      ],
      "execution_count": 11,
      "outputs": [
        {
          "output_type": "execute_result",
          "data": {
            "text/plain": [
              "<seaborn.axisgrid.JointGrid at 0x7fb487f01b70>"
            ]
          },
          "metadata": {
            "tags": []
          },
          "execution_count": 11
        },
        {
          "output_type": "display_data",
          "data": {
            "image/png": "[encoded data removed]",
            "text/plain": [
              "<Figure size 432x432 with 3 Axes>"
            ]
          },
          "metadata": {
            "tags": []
          }
        }
      ]
    },
    {
      "cell_type": "markdown",
      "metadata": {
        "id": "E9AM8kVuV95f",
        "colab_type": "text"
      },
      "source": [
        "Logistic Regression of Position and various features."
      ]
    },
    {
      "cell_type": "code",
      "metadata": {
        "id": "0Z3Qw0mVWlF-",
        "colab_type": "code",
        "colab": {}
      },
      "source": [
        ""
      ],
      "execution_count": 0,
      "outputs": []
    },
    {
      "cell_type": "code",
      "metadata": {
        "id": "0dXqwPbYWlGI",
        "colab_type": "code",
        "colab": {}
      },
      "source": [
        "from sklearn.model_selection import train_test_split"
      ],
      "execution_count": 0,
      "outputs": []
    },
    {
      "cell_type": "code",
      "metadata": {
        "id": "-OVrfDa9WlGM",
        "colab_type": "code",
        "colab": {}
      },
      "source": [
        "X = df1[['passes', 'shots', 'tackles','assists', 'crosses']]\n",
        "y = df1['position']"
      ],
      "execution_count": 0,
      "outputs": []
    },
    {
      "cell_type": "code",
      "metadata": {
        "id": "4SHkd7HhWlGQ",
        "colab_type": "code",
        "colab": {}
      },
      "source": [
        "X_train, X_test, y_train, y_test = train_test_split(X, y, test_size=0.33, random_state=42)"
      ],
      "execution_count": 0,
      "outputs": []
    },
    {
      "cell_type": "code",
      "metadata": {
        "id": "1i7M99foWlGT",
        "colab_type": "code",
        "colab": {}
      },
      "source": [
        "from sklearn.linear_model import LogisticRegression"
      ],
      "execution_count": 0,
      "outputs": []
    },
    {
      "cell_type": "code",
      "metadata": {
        "id": "ts596i4LWlGZ",
        "colab_type": "code",
        "outputId": "5103ea40-7ae6-48e3-aced-3f95df7076b2",
        "colab": {
          "base_uri": "https://localhost:8080/",
          "height": 190
        }
      },
      "source": [
        "logmodel = LogisticRegression()\n",
        "logmodel.fit(X_train,y_train)"
      ],
      "execution_count": 16,
      "outputs": [
        {
          "output_type": "stream",
          "text": [
            "/usr/local/lib/python3.6/dist-packages/sklearn/linear_model/logistic.py:432: FutureWarning: Default solver will be changed to 'lbfgs' in 0.22. Specify a solver to silence this warning.\n",
            "  FutureWarning)\n",
            "/usr/local/lib/python3.6/dist-packages/sklearn/linear_model/logistic.py:469: FutureWarning: Default multi_class will be changed to 'auto' in 0.22. Specify the multi_class option to silence this warning.\n",
            "  \"this warning.\", FutureWarning)\n"
          ],
          "name": "stderr"
        },
        {
          "output_type": "execute_result",
          "data": {
            "text/plain": [
              "LogisticRegression(C=1.0, class_weight=None, dual=False, fit_intercept=True,\n",
              "                   intercept_scaling=1, l1_ratio=None, max_iter=100,\n",
              "                   multi_class='warn', n_jobs=None, penalty='l2',\n",
              "                   random_state=None, solver='warn', tol=0.0001, verbose=0,\n",
              "                   warm_start=False)"
            ]
          },
          "metadata": {
            "tags": []
          },
          "execution_count": 16
        }
      ]
    },
    {
      "cell_type": "code",
      "metadata": {
        "id": "-hB1-1VkWlGk",
        "colab_type": "code",
        "colab": {}
      },
      "source": [
        "predictions = logmodel.predict(X_test)"
      ],
      "execution_count": 0,
      "outputs": []
    },
    {
      "cell_type": "code",
      "metadata": {
        "id": "tofYJRR-WlGo",
        "colab_type": "code",
        "colab": {}
      },
      "source": [
        "from sklearn.metrics import classification_report"
      ],
      "execution_count": 0,
      "outputs": []
    },
    {
      "cell_type": "code",
      "metadata": {
        "id": "lUCzNE0XWlGr",
        "colab_type": "code",
        "outputId": "60a8430c-5dbb-4d23-bebe-9c0163e7d10c",
        "colab": {
          "base_uri": "https://localhost:8080/",
          "height": 187
        }
      },
      "source": [
        "print(classification_report(y_test,predictions))"
      ],
      "execution_count": 19,
      "outputs": [
        {
          "output_type": "stream",
          "text": [
            "              precision    recall  f1-score   support\n",
            "\n",
            "    Defender       1.00      0.75      0.86         4\n",
            "     Forward       1.00      1.00      1.00         2\n",
            "  Goalkeeper       0.67      1.00      0.80         2\n",
            "\n",
            "    accuracy                           0.88         8\n",
            "   macro avg       0.89      0.92      0.89         8\n",
            "weighted avg       0.92      0.88      0.88         8\n",
            "\n"
          ],
          "name": "stdout"
        }
      ]
    },
    {
      "cell_type": "markdown",
      "metadata": {
        "id": "xagxUcK_WHVh",
        "colab_type": "text"
      },
      "source": [
        "Logistic Regression of Position and various features."
      ]
    },
    {
      "cell_type": "code",
      "metadata": {
        "id": "q7o7DzhEOTow",
        "colab_type": "code",
        "outputId": "f11ee188-e768-4f69-897d-3b91b11cfc13",
        "colab": {
          "base_uri": "https://localhost:8080/",
          "height": 275
        }
      },
      "source": [
        "from sklearn.model_selection import train_test_split\n",
        "\n",
        "X = df1[['blocks','clearances','headed clearances']]\n",
        "y = df1['position']\n",
        "\n",
        "X_train, X_test, y_train, y_test = train_test_split(X, y, test_size=0.33, random_state=42)\n",
        "\n",
        "logmodel = LogisticRegression()\n",
        "logmodel.fit(X_train,y_train)\n",
        "predictions = logmodel.predict(X_test)\n",
        "from sklearn.metrics import classification_report\n",
        "print(classification_report(y_test,predictions))"
      ],
      "execution_count": 20,
      "outputs": [
        {
          "output_type": "stream",
          "text": [
            "              precision    recall  f1-score   support\n",
            "\n",
            "    Defender       1.00      0.75      0.86         4\n",
            "     Forward       0.67      1.00      0.80         2\n",
            "  Goalkeeper       1.00      1.00      1.00         2\n",
            "\n",
            "    accuracy                           0.88         8\n",
            "   macro avg       0.89      0.92      0.89         8\n",
            "weighted avg       0.92      0.88      0.88         8\n",
            "\n"
          ],
          "name": "stdout"
        },
        {
          "output_type": "stream",
          "text": [
            "/usr/local/lib/python3.6/dist-packages/sklearn/linear_model/logistic.py:432: FutureWarning: Default solver will be changed to 'lbfgs' in 0.22. Specify a solver to silence this warning.\n",
            "  FutureWarning)\n",
            "/usr/local/lib/python3.6/dist-packages/sklearn/linear_model/logistic.py:469: FutureWarning: Default multi_class will be changed to 'auto' in 0.22. Specify the multi_class option to silence this warning.\n",
            "  \"this warning.\", FutureWarning)\n"
          ],
          "name": "stderr"
        }
      ]
    },
    {
      "cell_type": "code",
      "metadata": {
        "id": "ROMfUcJ9Z27h",
        "colab_type": "code",
        "colab": {}
      },
      "source": [
        ""
      ],
      "execution_count": 0,
      "outputs": []
    }
  ]
}